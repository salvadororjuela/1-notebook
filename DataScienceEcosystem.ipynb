{
 "cells": [
  {
   "cell_type": "markdown",
   "id": "f81a0489-06e4-4af0-b6a7-94b94605d3e1",
   "metadata": {},
   "source": [
    "# Data Science Tools and Ecosystem"
   ]
  },
  {
   "cell_type": "markdown",
   "id": "d44cd823-8e23-4dac-b5d1-4ba58de304ff",
   "metadata": {},
   "source": [
    "*In this notbook, Data Science Tools and Ecosystem are summarized*"
   ]
  },
  {
   "cell_type": "markdown",
   "id": "a52f963c-a101-4a36-8223-b4d8e6a1aa2a",
   "metadata": {},
   "source": [
    "## Objectives\n",
    "- List popular languages for Data Science\n",
    "- List commonly used libraries used by Data Scientists\n",
    "- List pupular Data Science Tools"
   ]
  },
  {
   "cell_type": "markdown",
   "id": "d7ceba08-caeb-4691-8adb-69e5b56e8868",
   "metadata": {},
   "source": [
    "**Some of the popular languages that Data Scientist use are:**\n",
    "1. Python\n",
    "2. R\n",
    "3. SQL\n",
    "4. Scala\n",
    "5. Julia\n",
    "6. Java\n",
    "7. C++"
   ]
  },
  {
   "cell_type": "markdown",
   "id": "49562352-6443-450a-9cb8-a912416d3fcc",
   "metadata": {},
   "source": [
    "**Some of the commonly used libraries used by Data Scientists include:**\n",
    "1. Pandas\n",
    "2. Numpy\n",
    "3. MatPlotLib\n",
    "4. Tensor Flow\n",
    "5. PyTorch\n",
    "6. Keras\n",
    "7. Scikit-Learn"
   ]
  },
  {
   "cell_type": "markdown",
   "id": "8890d464-e39c-43e3-adab-6cba36d2dc18",
   "metadata": {},
   "source": [
    "|Data Science Tools| \n",
    "|---| \n",
    "| RStudio | \n",
    "| Apache Spark | \n",
    "| Hadoop |"
   ]
  },
  {
   "cell_type": "markdown",
   "id": "912bf749-176b-4541-81b8-d13df37a60f6",
   "metadata": {},
   "source": [
    "### Below are a few examples of evaluating arithmetic expressiona in Python"
   ]
  },
  {
   "cell_type": "code",
   "execution_count": 5,
   "id": "071c216e-9fa7-4518-93e5-9ea36f035d41",
   "metadata": {},
   "outputs": [
    {
     "data": {
      "text/plain": [
       "17"
      ]
     },
     "execution_count": 5,
     "metadata": {},
     "output_type": "execute_result"
    }
   ],
   "source": [
    "# This is a simple arithmetic expression to multiply then add integers\n",
    "(3*4)+5"
   ]
  },
  {
   "cell_type": "code",
   "execution_count": 6,
   "id": "d3a73f05-ca1f-4396-a9b2-befd5edfcdf7",
   "metadata": {},
   "outputs": [
    {
     "data": {
      "text/plain": [
       "3.3333333333333335"
      ]
     },
     "execution_count": 6,
     "metadata": {},
     "output_type": "execute_result"
    }
   ],
   "source": [
    "# This will convert 200 minutes to hours by dividing by 60\n",
    "200/60"
   ]
  },
  {
   "cell_type": "markdown",
   "id": "f7972860-9fc7-40a0-8f41-826b9dadf61f",
   "metadata": {},
   "source": [
    "## Author\n",
    "_Salvador Orjuela_"
   ]
  }
 ],
 "metadata": {
  "kernelspec": {
   "display_name": "Python 3 (ipykernel)",
   "language": "python",
   "name": "python3"
  },
  "language_info": {
   "codemirror_mode": {
    "name": "ipython",
    "version": 3
   },
   "file_extension": ".py",
   "mimetype": "text/x-python",
   "name": "python",
   "nbconvert_exporter": "python",
   "pygments_lexer": "ipython3",
   "version": "3.10.9"
  }
 },
 "nbformat": 4,
 "nbformat_minor": 5
}
